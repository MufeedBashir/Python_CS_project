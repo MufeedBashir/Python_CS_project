{
  "nbformat": 4,
  "nbformat_minor": 0,
  "metadata": {
    "colab": {
      "name": "Python & CS_MB.ipynb",
      "provenance": [],
      "collapsed_sections": []
    },
    "kernelspec": {
      "name": "python3",
      "display_name": "Python 3"
    },
    "language_info": {
      "name": "python"
    }
  },
  "cells": [
    {
      "cell_type": "code",
      "metadata": {
        "id": "E3WUNSstyyzt"
      },
      "source": [
        "import requests"
      ],
      "execution_count": 1,
      "outputs": []
    },
    {
      "cell_type": "code",
      "metadata": {
        "id": "F7elMFT35V69"
      },
      "source": [
        "from datetime import datetime"
      ],
      "execution_count": 9,
      "outputs": []
    },
    {
      "cell_type": "code",
      "metadata": {
        "id": "7tAWxp2D5_Ds"
      },
      "source": [
        "api_key = '87d845b0b6cf29baa1a73cc34b067a95'"
      ],
      "execution_count": 5,
      "outputs": []
    },
    {
      "cell_type": "code",
      "metadata": {
        "colab": {
          "base_uri": "https://localhost:8080/"
        },
        "id": "g6_1bicS5uou",
        "outputId": "9731f2da-16b6-4ffc-b335-9bb9d62e0ac1"
      },
      "source": [
        "location = input(\"Enter the city name: \")"
      ],
      "execution_count": 4,
      "outputs": [
        {
          "output_type": "stream",
          "text": [
            "Enter the city name: SRINAGAR\n"
          ],
          "name": "stdout"
        }
      ]
    },
    {
      "cell_type": "code",
      "metadata": {
        "id": "wx7OYRvu6COs"
      },
      "source": [
        "complete_api_link = \"https://api.openweathermap.org/data/2.5/weather?q=\"+location+\"&appid=\"+api_key"
      ],
      "execution_count": 6,
      "outputs": []
    },
    {
      "cell_type": "code",
      "metadata": {
        "id": "dumD5Ns36JWG"
      },
      "source": [
        "api_link = requests.get(complete_api_link)"
      ],
      "execution_count": 12,
      "outputs": []
    },
    {
      "cell_type": "code",
      "metadata": {
        "id": "bPcfwSts6Mv8"
      },
      "source": [
        "api_data = api_link.json()"
      ],
      "execution_count": 14,
      "outputs": []
    },
    {
      "cell_type": "code",
      "metadata": {
        "id": "HpCiBO2f6Pns"
      },
      "source": [
        "temp_city = ((api_data['main']['temp']) - 273.15)"
      ],
      "execution_count": 15,
      "outputs": []
    },
    {
      "cell_type": "code",
      "metadata": {
        "id": "uA7cBymu6x2c"
      },
      "source": [
        "weather_desc = api_data['weather'][0]['description']"
      ],
      "execution_count": 16,
      "outputs": []
    },
    {
      "cell_type": "code",
      "metadata": {
        "id": "aTuQJlyd651M"
      },
      "source": [
        "hmdt = api_data['main']['humidity']"
      ],
      "execution_count": 17,
      "outputs": []
    },
    {
      "cell_type": "code",
      "metadata": {
        "id": "wLSusTRX68JE"
      },
      "source": [
        "wind_spd = api_data['wind']['speed']"
      ],
      "execution_count": 18,
      "outputs": []
    },
    {
      "cell_type": "code",
      "metadata": {
        "id": "oPpfdpqw6-u8"
      },
      "source": [
        "date_time = datetime.now().strftime(\"%d %b %Y | %I:%M:%S %p\")"
      ],
      "execution_count": 19,
      "outputs": []
    },
    {
      "cell_type": "code",
      "metadata": {
        "colab": {
          "base_uri": "https://localhost:8080/"
        },
        "id": "lA5eZF0h-ASW",
        "outputId": "b6c299b7-5297-49d3-eb8f-583432d250eb"
      },
      "source": [
        "print (\"Hello! ShapeAI This is the Weather Update From My City\")"
      ],
      "execution_count": 27,
      "outputs": [
        {
          "output_type": "stream",
          "text": [
            "Hello! ShapeAI This is the Weather Update From My City\n"
          ],
          "name": "stdout"
        }
      ]
    },
    {
      "cell_type": "code",
      "metadata": {
        "colab": {
          "base_uri": "https://localhost:8080/"
        },
        "id": "DocKUhZL7BSO",
        "outputId": "87e07c35-d166-43e7-bb63-db47882ef901"
      },
      "source": [
        "print (\"Weather Stats for - {}  || {}\".format(location.upper(), date_time))"
      ],
      "execution_count": 25,
      "outputs": [
        {
          "output_type": "stream",
          "text": [
            "Weather Stats for - SRINAGAR  || 24 Jun 2021 | 12:10:06 PM\n"
          ],
          "name": "stdout"
        }
      ]
    },
    {
      "cell_type": "code",
      "metadata": {
        "colab": {
          "base_uri": "https://localhost:8080/"
        },
        "id": "RH83dxHC-ad7",
        "outputId": "a76d7524-ab05-4d23-ddef-9365ce0b1475"
      },
      "source": [
        "print (\"Thanks! ShapeAI for All the BootCamps\")"
      ],
      "execution_count": 26,
      "outputs": [
        {
          "output_type": "stream",
          "text": [
            "Thanks! ShapeAI for All the BootCamps\n"
          ],
          "name": "stdout"
        }
      ]
    },
    {
      "cell_type": "code",
      "metadata": {
        "colab": {
          "base_uri": "https://localhost:8080/"
        },
        "id": "LU2XhuQu7Fod",
        "outputId": "84014153-7bb7-4cc1-b4ab-fe3bb0f9318c"
      },
      "source": [
        "print (\"Current temperature is: {:.2f} deg C\".format(temp_city))"
      ],
      "execution_count": 21,
      "outputs": [
        {
          "output_type": "stream",
          "text": [
            "Current temperature is: 24.08 deg C\n"
          ],
          "name": "stdout"
        }
      ]
    },
    {
      "cell_type": "code",
      "metadata": {
        "colab": {
          "base_uri": "https://localhost:8080/"
        },
        "id": "5xPhDPAY7JU0",
        "outputId": "25e483b7-bf9a-4afa-e7f8-b913a865a7fe"
      },
      "source": [
        "print (\"Current weather desc  :\",weather_desc)"
      ],
      "execution_count": 22,
      "outputs": [
        {
          "output_type": "stream",
          "text": [
            "Current weather desc  : broken clouds\n"
          ],
          "name": "stdout"
        }
      ]
    },
    {
      "cell_type": "code",
      "metadata": {
        "colab": {
          "base_uri": "https://localhost:8080/"
        },
        "id": "KNZXjuJM7NkM",
        "outputId": "80307029-7242-49b4-fb26-2761a658a459"
      },
      "source": [
        "print (\"Current Humidity      :\",hmdt, '%')"
      ],
      "execution_count": 23,
      "outputs": [
        {
          "output_type": "stream",
          "text": [
            "Current Humidity      : 44 %\n"
          ],
          "name": "stdout"
        }
      ]
    },
    {
      "cell_type": "code",
      "metadata": {
        "colab": {
          "base_uri": "https://localhost:8080/"
        },
        "id": "ffswm9Ip7Ql0",
        "outputId": "d39fbdf2-60e0-4d31-bbe9-9d850319c456"
      },
      "source": [
        "print (\"Current wind speed    :\",wind_spd ,'kmph')"
      ],
      "execution_count": 24,
      "outputs": [
        {
          "output_type": "stream",
          "text": [
            "Current wind speed    : 0.48 kmph\n"
          ],
          "name": "stdout"
        }
      ]
    }
  ]
}